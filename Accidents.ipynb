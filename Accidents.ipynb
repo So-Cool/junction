{
 "cells": [
  {
   "cell_type": "code",
   "execution_count": 1,
   "metadata": {
    "collapsed": true,
    "deletable": true,
    "editable": true
   },
   "outputs": [],
   "source": [
    "import pandas as pd\n",
    "import pickle\n",
    "import numpy as np\n",
    "import time\n",
    "import datetime"
   ]
  },
  {
   "cell_type": "code",
   "execution_count": 36,
   "metadata": {
    "collapsed": true
   },
   "outputs": [],
   "source": [
    "from math import radians, sin, cos, atan2, sqrt"
   ]
  },
  {
   "cell_type": "code",
   "execution_count": 2,
   "metadata": {
    "collapsed": false,
    "deletable": true,
    "editable": true
   },
   "outputs": [
    {
     "name": "stderr",
     "output_type": "stream",
     "text": [
      "/anaconda/lib/python2.7/site-packages/IPython/core/interactiveshell.py:2723: DtypeWarning: Columns (0) have mixed types. Specify dtype option on import or set low_memory=False.\n",
      "  interactivity=interactivity, compiler=compiler, result=result)\n"
     ]
    }
   ],
   "source": [
    "a15 = pd.read_csv(\"./2015.csv\")\n",
    "a14 = pd.read_csv(\"./2014.csv\")"
   ]
  },
  {
   "cell_type": "code",
   "execution_count": 3,
   "metadata": {
    "collapsed": false,
    "deletable": true,
    "editable": true
   },
   "outputs": [],
   "source": [
    "a14 = a14[[\"Longitude\", \"Latitude\", \"Date\"]]\n",
    "a15 = a15[[\"Longitude\", \"Latitude\", \"Date\"]]"
   ]
  },
  {
   "cell_type": "code",
   "execution_count": 4,
   "metadata": {
    "collapsed": false,
    "deletable": true,
    "editable": true
   },
   "outputs": [],
   "source": [
    "a14['loco'] = list(zip(a14.Longitude, a14.Latitude))\n",
    "a15['loco'] = list(zip(a15.Longitude, a15.Latitude))"
   ]
  },
  {
   "cell_type": "code",
   "execution_count": 5,
   "metadata": {
    "collapsed": false,
    "deletable": true,
    "editable": true
   },
   "outputs": [
    {
     "data": {
      "text/html": [
       "<div>\n",
       "<table border=\"1\" class=\"dataframe\">\n",
       "  <thead>\n",
       "    <tr style=\"text-align: right;\">\n",
       "      <th></th>\n",
       "      <th>Longitude</th>\n",
       "      <th>Latitude</th>\n",
       "      <th>Date</th>\n",
       "      <th>loco</th>\n",
       "    </tr>\n",
       "  </thead>\n",
       "  <tbody>\n",
       "    <tr>\n",
       "      <th>0</th>\n",
       "      <td>-0.206443</td>\n",
       "      <td>51.496345</td>\n",
       "      <td>09/01/2014</td>\n",
       "      <td>(-0.206443, 51.496345)</td>\n",
       "    </tr>\n",
       "    <tr>\n",
       "      <th>1</th>\n",
       "      <td>-0.189713</td>\n",
       "      <td>51.489523</td>\n",
       "      <td>20/01/2014</td>\n",
       "      <td>(-0.189713, 51.489523)</td>\n",
       "    </tr>\n",
       "    <tr>\n",
       "      <th>2</th>\n",
       "      <td>-0.173827</td>\n",
       "      <td>51.490536</td>\n",
       "      <td>21/01/2014</td>\n",
       "      <td>(-0.173827, 51.490536)</td>\n",
       "    </tr>\n",
       "    <tr>\n",
       "      <th>3</th>\n",
       "      <td>-0.192311</td>\n",
       "      <td>51.496668</td>\n",
       "      <td>15/01/2014</td>\n",
       "      <td>(-0.192311, 51.496668)</td>\n",
       "    </tr>\n",
       "    <tr>\n",
       "      <th>4</th>\n",
       "      <td>-0.171308</td>\n",
       "      <td>51.495892</td>\n",
       "      <td>09/01/2014</td>\n",
       "      <td>(-0.171308, 51.495892)</td>\n",
       "    </tr>\n",
       "  </tbody>\n",
       "</table>\n",
       "</div>"
      ],
      "text/plain": [
       "   Longitude   Latitude        Date                    loco\n",
       "0  -0.206443  51.496345  09/01/2014  (-0.206443, 51.496345)\n",
       "1  -0.189713  51.489523  20/01/2014  (-0.189713, 51.489523)\n",
       "2  -0.173827  51.490536  21/01/2014  (-0.173827, 51.490536)\n",
       "3  -0.192311  51.496668  15/01/2014  (-0.192311, 51.496668)\n",
       "4  -0.171308  51.495892  09/01/2014  (-0.171308, 51.495892)"
      ]
     },
     "execution_count": 5,
     "metadata": {},
     "output_type": "execute_result"
    }
   ],
   "source": [
    "a14.head()"
   ]
  },
  {
   "cell_type": "code",
   "execution_count": 6,
   "metadata": {
    "collapsed": true,
    "deletable": true,
    "editable": true
   },
   "outputs": [],
   "source": [
    "with open(\"../bdc/hjt_map_dict.pickle\", \"r\") as p:\n",
    "    section_id_info = pickle.load(p)"
   ]
  },
  {
   "cell_type": "code",
   "execution_count": 24,
   "metadata": {
    "collapsed": false
   },
   "outputs": [],
   "source": [
    "idloc = pd.DataFrame(section_id_info).T.location"
   ]
  },
  {
   "cell_type": "code",
   "execution_count": 7,
   "metadata": {
    "collapsed": false,
    "deletable": true,
    "editable": true
   },
   "outputs": [],
   "source": [
    "locs = []\n",
    "for i in section_id_info:\n",
    "    locs.append(section_id_info[i][\"location\"])"
   ]
  },
  {
   "cell_type": "code",
   "execution_count": 8,
   "metadata": {
    "collapsed": false,
    "deletable": true,
    "editable": true
   },
   "outputs": [
    {
     "name": "stdout",
     "output_type": "stream",
     "text": [
      "51.424\n",
      "51.479\n",
      "-2.629\n",
      "-2.541\n"
     ]
    }
   ],
   "source": [
    "print np.matrix(locs)[:,0].min()\n",
    "print np.matrix(locs)[:,0].max()\n",
    "print np.matrix(locs)[:,1].min()\n",
    "print np.matrix(locs)[:,1].max()"
   ]
  },
  {
   "cell_type": "code",
   "execution_count": 43,
   "metadata": {
    "collapsed": false,
    "deletable": true,
    "editable": true
   },
   "outputs": [],
   "source": [
    "def inBrs(a):\n",
    "    if -2.629 <= a[0] and a[0] <= -2.541 and 51.424 <= a[1] and a[1] <= 51.479 :\n",
    "        return True\n",
    "    else:\n",
    "        return False\n",
    "brs14 = a14[a14[\"loco\"].map(inBrs)]\n",
    "brs15 = a15[a15[\"loco\"].map(inBrs)]"
   ]
  },
  {
   "cell_type": "code",
   "execution_count": 44,
   "metadata": {
    "collapsed": false,
    "deletable": true,
    "editable": true
   },
   "outputs": [],
   "source": [
    "def d2s(d):\n",
    "    d += \" 12:00:00\"\n",
    "    return int(time.mktime(datetime.datetime.strptime(d, \"%d/%m/%Y %H:%M:%S\").timetuple()))"
   ]
  },
  {
   "cell_type": "code",
   "execution_count": 45,
   "metadata": {
    "collapsed": false,
    "deletable": true,
    "editable": true
   },
   "outputs": [
    {
     "name": "stderr",
     "output_type": "stream",
     "text": [
      "/anaconda/lib/python2.7/site-packages/ipykernel/__main__.py:1: SettingWithCopyWarning: \n",
      "A value is trying to be set on a copy of a slice from a DataFrame.\n",
      "Try using .loc[row_indexer,col_indexer] = value instead\n",
      "\n",
      "See the caveats in the documentation: http://pandas.pydata.org/pandas-docs/stable/indexing.html#indexing-view-versus-copy\n",
      "  if __name__ == '__main__':\n",
      "/anaconda/lib/python2.7/site-packages/ipykernel/__main__.py:2: SettingWithCopyWarning: \n",
      "A value is trying to be set on a copy of a slice from a DataFrame.\n",
      "Try using .loc[row_indexer,col_indexer] = value instead\n",
      "\n",
      "See the caveats in the documentation: http://pandas.pydata.org/pandas-docs/stable/indexing.html#indexing-view-versus-copy\n",
      "  from ipykernel import kernelapp as app\n"
     ]
    }
   ],
   "source": [
    "brs14[\"Date\"] = brs14[\"Date\"].apply(d2s)\n",
    "brs15[\"Date\"] = brs15[\"Date\"].apply(d2s)"
   ]
  },
  {
   "cell_type": "code",
   "execution_count": 46,
   "metadata": {
    "collapsed": false
   },
   "outputs": [],
   "source": [
    "acc = {}\n",
    "for i in section_id_info:\n",
    "    acc[i] = []"
   ]
  },
  {
   "cell_type": "code",
   "execution_count": 47,
   "metadata": {
    "collapsed": true
   },
   "outputs": [],
   "source": [
    "def geo_distance((lat1, lon1), (lat2, lon2)):\n",
    "    \"\"\"Calculate geo-distance between 2 points (in meters).\"\"\"\n",
    "    # approximate radius of earth in meters\n",
    "    R = 6373000.0\n",
    "\n",
    "    lat1 = radians(lat1)\n",
    "    lon1 = radians(lon1)\n",
    "    lat2 = radians(lat2)\n",
    "    lon2 = radians(lon2)\n",
    "\n",
    "    dlon = lon2 - lon1\n",
    "    dlat = lat2 - lat1\n",
    "\n",
    "    a = sin(dlat / 2)**2 + cos(lat1) * cos(lat2) * sin(dlon / 2)**2\n",
    "    c = 2 * atan2(sqrt(a), sqrt(1 - a))\n",
    "    distance = R * c\n",
    "    return distance"
   ]
  },
  {
   "cell_type": "code",
   "execution_count": 56,
   "metadata": {
    "collapsed": false
   },
   "outputs": [],
   "source": [
    "for i, r in brs14.iterrows():\n",
    "#     print i\n",
    "    d = r[\"Date\"]\n",
    "    dd = idloc.apply(geo_distance, args=(r.loco[::-1],))\n",
    "    if dd.min() <= 1000:\n",
    "        acc[dd.idxmin()].append(d)"
   ]
  },
  {
   "cell_type": "code",
   "execution_count": 57,
   "metadata": {
    "collapsed": false
   },
   "outputs": [],
   "source": [
    "for i, r in brs15.iterrows():\n",
    "#     print i\n",
    "    d = r[\"Date\"]\n",
    "    dd = idloc.apply(geo_distance, args=(r.loco[::-1],))\n",
    "    if dd.min() <= 1000:\n",
    "        acc[dd.idxmin()].append(d)"
   ]
  },
  {
   "cell_type": "code",
   "execution_count": 60,
   "metadata": {
    "collapsed": false
   },
   "outputs": [],
   "source": [
    "with open(\"../bdc/acc_time_by_location.pickle\", \"w\") as p:\n",
    "    pickle.dump(acc, p)"
   ]
  },
  {
   "cell_type": "code",
   "execution_count": null,
   "metadata": {
    "collapsed": true
   },
   "outputs": [],
   "source": []
  }
 ],
 "metadata": {
  "kernelspec": {
   "display_name": "Python 2",
   "language": "python",
   "name": "python2"
  },
  "language_info": {
   "codemirror_mode": {
    "name": "ipython",
    "version": 2
   },
   "file_extension": ".py",
   "mimetype": "text/x-python",
   "name": "python",
   "nbconvert_exporter": "python",
   "pygments_lexer": "ipython2",
   "version": "2.7.11"
  }
 },
 "nbformat": 4,
 "nbformat_minor": 2
}
