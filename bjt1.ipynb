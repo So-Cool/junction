{
 "cells": [
  {
   "cell_type": "code",
   "execution_count": 33,
   "metadata": {
    "collapsed": true
   },
   "outputs": [],
   "source": [
    "import pandas as pd\n",
    "import pickle"
   ]
  },
  {
   "cell_type": "code",
   "execution_count": 2,
   "metadata": {
    "collapsed": true
   },
   "outputs": [],
   "source": [
    "bjt = pd.read_pickle(\"../bdc/hjt_cleaned.pickle\")"
   ]
  },
  {
   "cell_type": "code",
   "execution_count": 3,
   "metadata": {
    "collapsed": false
   },
   "outputs": [
    {
     "data": {
      "text/html": [
       "<div>\n",
       "<table border=\"1\" class=\"dataframe\">\n",
       "  <thead>\n",
       "    <tr style=\"text-align: right;\">\n",
       "      <th></th>\n",
       "      <th>section_id</th>\n",
       "      <th>section_description</th>\n",
       "      <th>travel time</th>\n",
       "      <th>time</th>\n",
       "      <th>est_speed</th>\n",
       "      <th>location</th>\n",
       "    </tr>\n",
       "  </thead>\n",
       "  <tbody>\n",
       "    <tr>\n",
       "      <th>1</th>\n",
       "      <td>SECTIONTL0004</td>\n",
       "      <td>M32 Newfoundland Circus IB to Bond St at Glouc...</td>\n",
       "      <td>42.0</td>\n",
       "      <td>1.405451e+09</td>\n",
       "      <td>15.329002</td>\n",
       "      <td>(51.459, -2.585)</td>\n",
       "    </tr>\n",
       "    <tr>\n",
       "      <th>2</th>\n",
       "      <td>SECTIONTL0011</td>\n",
       "      <td>Bond St at Gloucester St EB to M32 Newfoundlan...</td>\n",
       "      <td>51.0</td>\n",
       "      <td>1.405451e+09</td>\n",
       "      <td>12.624410</td>\n",
       "      <td>(51.46, -2.585)</td>\n",
       "    </tr>\n",
       "    <tr>\n",
       "      <th>3</th>\n",
       "      <td>SECTIONTL0012</td>\n",
       "      <td>Old Market St East IB to M32 Newfoundland Circ...</td>\n",
       "      <td>493.0</td>\n",
       "      <td>1.405451e+09</td>\n",
       "      <td>1.305357</td>\n",
       "      <td>(51.458, -2.585)</td>\n",
       "    </tr>\n",
       "    <tr>\n",
       "      <th>4</th>\n",
       "      <td>SECTIONTL0028</td>\n",
       "      <td>Victoria St SB to Old Market St East OB</td>\n",
       "      <td>1335.0</td>\n",
       "      <td>1.405450e+09</td>\n",
       "      <td>1.689811</td>\n",
       "      <td>(51.4535, -2.584)</td>\n",
       "    </tr>\n",
       "    <tr>\n",
       "      <th>5</th>\n",
       "      <td>SECTIONTL0030</td>\n",
       "      <td>Victoria St SB to Bath Rd/ Three Lamps OB</td>\n",
       "      <td>207.0</td>\n",
       "      <td>1.405451e+09</td>\n",
       "      <td>10.885424</td>\n",
       "      <td>(51.4535, -2.584)</td>\n",
       "    </tr>\n",
       "  </tbody>\n",
       "</table>\n",
       "</div>"
      ],
      "text/plain": [
       "      section_id                                section_description  \\\n",
       "1  SECTIONTL0004  M32 Newfoundland Circus IB to Bond St at Glouc...   \n",
       "2  SECTIONTL0011  Bond St at Gloucester St EB to M32 Newfoundlan...   \n",
       "3  SECTIONTL0012  Old Market St East IB to M32 Newfoundland Circ...   \n",
       "4  SECTIONTL0028            Victoria St SB to Old Market St East OB   \n",
       "5  SECTIONTL0030          Victoria St SB to Bath Rd/ Three Lamps OB   \n",
       "\n",
       "   travel time          time  est_speed           location  \n",
       "1         42.0  1.405451e+09  15.329002   (51.459, -2.585)  \n",
       "2         51.0  1.405451e+09  12.624410    (51.46, -2.585)  \n",
       "3        493.0  1.405451e+09   1.305357   (51.458, -2.585)  \n",
       "4       1335.0  1.405450e+09   1.689811  (51.4535, -2.584)  \n",
       "5        207.0  1.405451e+09  10.885424  (51.4535, -2.584)  "
      ]
     },
     "execution_count": 3,
     "metadata": {},
     "output_type": "execute_result"
    }
   ],
   "source": [
    "bjt.head()"
   ]
  },
  {
   "cell_type": "code",
   "execution_count": 12,
   "metadata": {
    "collapsed": false
   },
   "outputs": [],
   "source": [
    "id_name = []\n",
    "for i in bjt[[\"section_id\", \"section_description\", \"location\"]].values:\n",
    "    i = tuple(i)\n",
    "    if not i in id_name:\n",
    "        id_name.append(i)"
   ]
  },
  {
   "cell_type": "code",
   "execution_count": 13,
   "metadata": {
    "collapsed": false
   },
   "outputs": [
    {
     "data": {
      "text/plain": [
       "59"
      ]
     },
     "execution_count": 13,
     "metadata": {},
     "output_type": "execute_result"
    }
   ],
   "source": [
    "len(id_name)"
   ]
  },
  {
   "cell_type": "code",
   "execution_count": 17,
   "metadata": {
    "collapsed": false
   },
   "outputs": [],
   "source": [
    "section_id_map = {}\n",
    "section_id_info = {}\n",
    "x = []\n",
    "for (i, j, k) in id_name:\n",
    "    num = i.strip(\"SECTIONTL\")\n",
    "    x.append( num)\n",
    "    section_id_map[i] = num\n",
    "    section_id_info[num] = {\"id\": i, \"description\": j, \"location\": k}"
   ]
  },
  {
   "cell_type": "code",
   "execution_count": 24,
   "metadata": {
    "collapsed": false
   },
   "outputs": [
    {
     "data": {
      "text/plain": [
       "['0004',\n",
       " '0011',\n",
       " '0012',\n",
       " '0028',\n",
       " '0030',\n",
       " '0035',\n",
       " '0036',\n",
       " '0037',\n",
       " '0038',\n",
       " '0039',\n",
       " '0040',\n",
       " '0044',\n",
       " '0045',\n",
       " '0046',\n",
       " '0050',\n",
       " '0053',\n",
       " '0056',\n",
       " '0058',\n",
       " '0070',\n",
       " '0073',\n",
       " '0076',\n",
       " '0015',\n",
       " '0063',\n",
       " '0059',\n",
       " '00001',\n",
       " '00022',\n",
       " '00028',\n",
       " '00030',\n",
       " '00036',\n",
       " '00046',\n",
       " '00063',\n",
       " '00073',\n",
       " '00078',\n",
       " '00079',\n",
       " '00104',\n",
       " '00109',\n",
       " '00111',\n",
       " '00115',\n",
       " '00116',\n",
       " '00117',\n",
       " '00124',\n",
       " '00125',\n",
       " '00126',\n",
       " '00127',\n",
       " '00128',\n",
       " '00129',\n",
       " '00130',\n",
       " '00131',\n",
       " '00135',\n",
       " '00136',\n",
       " '00168',\n",
       " '00169',\n",
       " '00175',\n",
       " '00176',\n",
       " '0001',\n",
       " '0021',\n",
       " '0022',\n",
       " '0003',\n",
       " '0014']"
      ]
     },
     "execution_count": 24,
     "metadata": {},
     "output_type": "execute_result"
    }
   ],
   "source": [
    "x"
   ]
  },
  {
   "cell_type": "code",
   "execution_count": 26,
   "metadata": {
    "collapsed": false
   },
   "outputs": [],
   "source": [
    "for i in list(set([int(i) for i in x])):\n",
    "    if \"000\"+str(i) not in x and \"00\"+str(i) not in x:\n",
    "        print i"
   ]
  },
  {
   "cell_type": "code",
   "execution_count": 27,
   "metadata": {
    "collapsed": false
   },
   "outputs": [
    {
     "data": {
      "text/plain": [
       "[('SECTIONTL0004',\n",
       "  'M32 Newfoundland Circus IB to Bond St at Gloucester St WB',\n",
       "  (51.459, -2.585)),\n",
       " ('SECTIONTL0011',\n",
       "  'Bond St at Gloucester St EB to M32 Newfoundland Circus OB',\n",
       "  (51.46, -2.585)),\n",
       " ('SECTIONTL0012',\n",
       "  'Old Market St East IB to M32 Newfoundland Circus OB',\n",
       "  (51.458, -2.585)),\n",
       " ('SECTIONTL0028',\n",
       "  'Victoria St SB to Old Market St East OB',\n",
       "  (51.4535, -2.584)),\n",
       " ('SECTIONTL0030',\n",
       "  'Victoria St SB to Bath Rd/ Three Lamps OB',\n",
       "  (51.4535, -2.584)),\n",
       " ('SECTIONTL0035',\n",
       "  'Redcliffe Way West IB to Commercial Rd OB',\n",
       "  (51.449, -2.587)),\n",
       " ('SECTIONTL0036',\n",
       "  'Redcliffe Way West IB to Coronation Rd OB',\n",
       "  (51.4455, -2.592)),\n",
       " ('SECTIONTL0037',\n",
       "  'Redcliffe Way West IB to Bedminster Parade OB',\n",
       "  (51.444, -2.593)),\n",
       " ('SECTIONTL0038',\n",
       "  'Coronation Rd IB to Redcliffe Way West OB',\n",
       "  (51.4495, -2.59)),\n",
       " ('SECTIONTL0039', 'Coronation Rd IB to St Lukes Rd OB', (51.445, -2.587)),\n",
       " ('SECTIONTL0040',\n",
       "  'Coronation Rd IB to Bath Rd/ Three Lamps OB',\n",
       "  (51.446, -2.59)),\n",
       " ('SECTIONTL0044',\n",
       "  'Commercial Rd IB to Redcliffe Way West OB',\n",
       "  (51.447, -2.591)),\n",
       " ('SECTIONTL0045',\n",
       "  'Bedminster Parade IB to Coronation Rd OB',\n",
       "  (51.4445, -2.593)),\n",
       " ('SECTIONTL0046',\n",
       "  'Bedminster Parade IB to Redcliffe Way West OB',\n",
       "  (51.448, -2.591)),\n",
       " ('SECTIONTL0050', 'Bedminster Parade IB to St Lukes Rd OB', (51.445, -2.588)),\n",
       " ('SECTIONTL0053', 'St Lukes Rd IB to Coronation Rd OB', (51.4445, -2.587)),\n",
       " ('SECTIONTL0056',\n",
       "  'St Lukes Rd IB to Old Market St East OB',\n",
       "  (51.446, -2.584)),\n",
       " ('SECTIONTL0058',\n",
       "  'Cattlemarket Rd IB to Bath Rd/ Three Lamps OB',\n",
       "  (51.4465, -2.5795)),\n",
       " ('SECTIONTL0070',\n",
       "  'Bath Rd/ Three Lamps IB to Old Market St East OB',\n",
       "  (51.4515, -2.585)),\n",
       " ('SECTIONTL0073',\n",
       "  'Bath Rd/ Three Lamps IB to Victoria St NB',\n",
       "  (51.4485, -2.584)),\n",
       " ('SECTIONTL0076',\n",
       "  'Bath Rd/ Three Lamps IB to Coronation Rd OB',\n",
       "  (51.4455, -2.5835)),\n",
       " ('SECTIONTL0015', 'Old Mkt East IB to Cattlemarket Rd OB', (51.448, -2.585)),\n",
       " ('SECTIONTL0063', 'Avon St IB to Cattlemarket Rd OB', (51.4515, -2.584)),\n",
       " ('SECTIONTL0059', 'Cattlemarket Rd IB to St Lukes Rd OB', (51.446, -2.5825)),\n",
       " ('SECTIONTL00001',\n",
       "  'M32 Newfoundland Circus IB to Old Market St West WB',\n",
       "  (51.457, -2.583)),\n",
       " ('SECTIONTL00022',\n",
       "  'Old Market St West EB to M32 Newfoundland Circus OB',\n",
       "  (51.457, -2.587)),\n",
       " ('SECTIONTL00028',\n",
       "  'Victoria St SB to Old Market St East OB',\n",
       "  (51.452, -2.587)),\n",
       " ('SECTIONTL00030',\n",
       "  'Victoria St SB to Bath Rd/ Three Lamps OB',\n",
       "  (51.448, -2.581)),\n",
       " ('SECTIONTL00036',\n",
       "  'Redcliffe Way West IB to Coronation Rd OB',\n",
       "  (51.448, -2.59)),\n",
       " ('SECTIONTL00046',\n",
       "  'Bedminster Parade IB to Redcliffe Way West OB',\n",
       "  (51.448, -2.594)),\n",
       " ('SECTIONTL00063', 'Avon St IB to Cattlemarket Rd OB', (51.452, -2.583)),\n",
       " ('SECTIONTL00073',\n",
       "  'Bath Rd/ Three Lamps IB to Victoria St NB',\n",
       "  (51.447, -2.584)),\n",
       " ('SECTIONTL00078', 'Three Lamps OB to Bath Rd P&R OB', (51.438, -2.555)),\n",
       " ('SECTIONTL00079',\n",
       "  'Bath Rd P&R IB to Bath Rd/ Three Lamps IB',\n",
       "  (51.436, -2.557)),\n",
       " ('SECTIONTL00104', 'Stokes Croft OB to A38 Monks Pk OB', (51.479, -2.591)),\n",
       " ('SECTIONTL00109', 'A38 Monks Pk IB to Stokes Croft IB', (51.479, -2.587)),\n",
       " ('SECTIONTL00111', 'A432/Straits IB to A432/Coombe IB', (51.475, -2.541)),\n",
       " ('SECTIONTL00115', 'A432/Coombe OB to A432/Straits OB', (51.477, -2.543)),\n",
       " ('SECTIONTL00116', 'Church Rd IB to Old Mkt East IB', (51.457, -2.563)),\n",
       " ('SECTIONTL00117', 'Old Mkt East OB to Church Rd OB', (51.459, -2.563)),\n",
       " ('SECTIONTL00124', 'Hartcliffe Way OB to Bath Rd P&R OB', (51.428, -2.569)),\n",
       " ('SECTIONTL00125', 'Bath Rd P&R IB to Hartcliffe Way IB', (51.426, -2.567)),\n",
       " ('SECTIONTL00126',\n",
       "  'Hartcliffe Way IB to Parson St/Bed Dwn',\n",
       "  (51.424, -2.607)),\n",
       " ('SECTIONTL00127',\n",
       "  'Parson St/Parson SB to Hartclffe Wy OB',\n",
       "  (51.424, -2.603)),\n",
       " ('SECTIONTL00128', 'Portway IB to Hotwell Rd IB', (51.454, -2.625)),\n",
       " ('SECTIONTL00129', 'Portway IB to Parson St/West', (51.436, -2.619)),\n",
       " ('SECTIONTL00130', 'Hotwell Rd OB to Portway OB', (51.454, -2.629)),\n",
       " ('SECTIONTL00131', \"Parson St/W'Stoke to Portway OB\", (51.436, -2.623)),\n",
       " ('SECTIONTL00135', 'Parson St/West to Bed Pde IB', (51.439, -2.604)),\n",
       " ('SECTIONTL00136', 'Bed Pde OB to Parson St/Bed Dwn', (51.437, -2.6)),\n",
       " ('SECTIONTL00168',\n",
       "  'M32 J2 OB to Gloucester Rd @ Monks Park Ave OB',\n",
       "  (51.477, -2.575)),\n",
       " ('SECTIONTL00169',\n",
       "  'Gloucester Rd @ Monks Park Ave IB to M32 J2 IB',\n",
       "  (51.479, -2.573)),\n",
       " ('SECTIONTL00175', 'Blackboy Hill IB to St Michaels IB', (51.463, -2.606)),\n",
       " ('SECTIONTL00176', 'St Michaels OB to Blackboy Hill OB', (51.463, -2.61)),\n",
       " ('SECTIONTL0001',\n",
       "  'M32 Newfoundland Circus IB to Old Market St West WB',\n",
       "  (51.4594, -2.584)),\n",
       " ('SECTIONTL0021',\n",
       "  'Old Market St West EB to Bond St at Gloucester St WB',\n",
       "  (51.4594, -2.586)),\n",
       " ('SECTIONTL0022',\n",
       "  'Old Market St West EB to M32 Newfoundland Circus OB',\n",
       "  (51.4594, -2.585)),\n",
       " ('SECTIONTL0003',\n",
       "  'M32 Newfoundland Circus IB to Avon St OB',\n",
       "  (51.456, -2.584)),\n",
       " ('SECTIONTL0014', 'Old Market St East IB to Avon St OB', (51.453, -2.584))]"
      ]
     },
     "execution_count": 27,
     "metadata": {},
     "output_type": "execute_result"
    }
   ],
   "source": [
    "id_name"
   ]
  },
  {
   "cell_type": "code",
   "execution_count": 28,
   "metadata": {
    "collapsed": false
   },
   "outputs": [],
   "source": [
    "bjt.drop(\"location\", axis=1, inplace=True)\n",
    "bjt.drop(\"section_description\", axis=1, inplace=True)\n",
    "bjt[\"section_id\"] = bjt[\"section_id\"].map(section_id_map)"
   ]
  },
  {
   "cell_type": "code",
   "execution_count": 30,
   "metadata": {
    "collapsed": false
   },
   "outputs": [],
   "source": [
    "bjt[\"travel_time\"] = bjt[\"travel time\"]\n",
    "bjt.drop(\"travel time\", axis=1, inplace=True)"
   ]
  },
  {
   "cell_type": "code",
   "execution_count": 31,
   "metadata": {
    "collapsed": false
   },
   "outputs": [
    {
     "data": {
      "text/html": [
       "<div>\n",
       "<table border=\"1\" class=\"dataframe\">\n",
       "  <thead>\n",
       "    <tr style=\"text-align: right;\">\n",
       "      <th></th>\n",
       "      <th>section_id</th>\n",
       "      <th>time</th>\n",
       "      <th>est_speed</th>\n",
       "      <th>travel_time</th>\n",
       "    </tr>\n",
       "  </thead>\n",
       "  <tbody>\n",
       "    <tr>\n",
       "      <th>1</th>\n",
       "      <td>0004</td>\n",
       "      <td>1.405451e+09</td>\n",
       "      <td>15.329002</td>\n",
       "      <td>42.0</td>\n",
       "    </tr>\n",
       "    <tr>\n",
       "      <th>2</th>\n",
       "      <td>0011</td>\n",
       "      <td>1.405451e+09</td>\n",
       "      <td>12.624410</td>\n",
       "      <td>51.0</td>\n",
       "    </tr>\n",
       "    <tr>\n",
       "      <th>3</th>\n",
       "      <td>0012</td>\n",
       "      <td>1.405451e+09</td>\n",
       "      <td>1.305357</td>\n",
       "      <td>493.0</td>\n",
       "    </tr>\n",
       "    <tr>\n",
       "      <th>4</th>\n",
       "      <td>0028</td>\n",
       "      <td>1.405450e+09</td>\n",
       "      <td>1.689811</td>\n",
       "      <td>1335.0</td>\n",
       "    </tr>\n",
       "    <tr>\n",
       "      <th>5</th>\n",
       "      <td>0030</td>\n",
       "      <td>1.405451e+09</td>\n",
       "      <td>10.885424</td>\n",
       "      <td>207.0</td>\n",
       "    </tr>\n",
       "  </tbody>\n",
       "</table>\n",
       "</div>"
      ],
      "text/plain": [
       "  section_id          time  est_speed  travel_time\n",
       "1       0004  1.405451e+09  15.329002         42.0\n",
       "2       0011  1.405451e+09  12.624410         51.0\n",
       "3       0012  1.405451e+09   1.305357        493.0\n",
       "4       0028  1.405450e+09   1.689811       1335.0\n",
       "5       0030  1.405451e+09  10.885424        207.0"
      ]
     },
     "execution_count": 31,
     "metadata": {},
     "output_type": "execute_result"
    }
   ],
   "source": [
    "bjt.head()"
   ]
  },
  {
   "cell_type": "code",
   "execution_count": 32,
   "metadata": {
    "collapsed": true
   },
   "outputs": [],
   "source": [
    "bjt.to_pickle(\"../bdc/hjt_cleaned_slim.pickle\")"
   ]
  },
  {
   "cell_type": "code",
   "execution_count": 35,
   "metadata": {
    "collapsed": false
   },
   "outputs": [],
   "source": [
    "with open(\"../bdc/hjt_map_dict.pickle\", \"w\") as p:\n",
    "    pickle.dump(section_id_info, p)"
   ]
  },
  {
   "cell_type": "code",
   "execution_count": null,
   "metadata": {
    "collapsed": true
   },
   "outputs": [],
   "source": []
  }
 ],
 "metadata": {
  "kernelspec": {
   "display_name": "Python 2",
   "language": "python",
   "name": "python2"
  },
  "language_info": {
   "codemirror_mode": {
    "name": "ipython",
    "version": 2
   },
   "file_extension": ".py",
   "mimetype": "text/x-python",
   "name": "python",
   "nbconvert_exporter": "python",
   "pygments_lexer": "ipython2",
   "version": "2.7.11"
  }
 },
 "nbformat": 4,
 "nbformat_minor": 2
}
