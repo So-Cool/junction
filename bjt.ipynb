{
 "cells": [
  {
   "cell_type": "code",
   "execution_count": 17,
   "metadata": {
    "collapsed": true
   },
   "outputs": [],
   "source": [
    "import pandas as pd\n",
    "import time, datetime"
   ]
  },
  {
   "cell_type": "code",
   "execution_count": 3,
   "metadata": {
    "collapsed": true
   },
   "outputs": [],
   "source": [
    "bjt = pd.read_csv(\"../bdc/hjt.csv\")"
   ]
  },
  {
   "cell_type": "code",
   "execution_count": 5,
   "metadata": {
    "collapsed": false
   },
   "outputs": [
    {
     "data": {
      "text/html": [
       "<div>\n",
       "<table border=\"1\" class=\"dataframe\">\n",
       "  <thead>\n",
       "    <tr style=\"text-align: right;\">\n",
       "      <th></th>\n",
       "      <th>section_id</th>\n",
       "      <th>section_description</th>\n",
       "      <th>travel time</th>\n",
       "      <th>time</th>\n",
       "      <th>lat</th>\n",
       "      <th>long</th>\n",
       "      <th>est_speed</th>\n",
       "      <th>location</th>\n",
       "    </tr>\n",
       "  </thead>\n",
       "  <tbody>\n",
       "    <tr>\n",
       "      <th>0</th>\n",
       "      <td>NaN</td>\n",
       "      <td>NaN</td>\n",
       "      <td>NaN</td>\n",
       "      <td>NaN</td>\n",
       "      <td>NaN</td>\n",
       "      <td>NaN</td>\n",
       "      <td>NaN</td>\n",
       "      <td>NaN</td>\n",
       "    </tr>\n",
       "    <tr>\n",
       "      <th>1</th>\n",
       "      <td>SECTIONTL0004</td>\n",
       "      <td>M32 Newfoundland Circus IB to Bond St at Glouc...</td>\n",
       "      <td>42.0</td>\n",
       "      <td>07/15/2014 07:09:23 PM +0000</td>\n",
       "      <td>51.4590</td>\n",
       "      <td>-2.585</td>\n",
       "      <td>34.29</td>\n",
       "      <td>(51.459, -2.585)</td>\n",
       "    </tr>\n",
       "    <tr>\n",
       "      <th>2</th>\n",
       "      <td>SECTIONTL0011</td>\n",
       "      <td>Bond St at Gloucester St EB to M32 Newfoundlan...</td>\n",
       "      <td>51.0</td>\n",
       "      <td>07/15/2014 07:09:23 PM +0000</td>\n",
       "      <td>51.4600</td>\n",
       "      <td>-2.585</td>\n",
       "      <td>28.24</td>\n",
       "      <td>(51.46, -2.585)</td>\n",
       "    </tr>\n",
       "    <tr>\n",
       "      <th>3</th>\n",
       "      <td>SECTIONTL0012</td>\n",
       "      <td>Old Market St East IB to M32 Newfoundland Circ...</td>\n",
       "      <td>493.0</td>\n",
       "      <td>07/15/2014 07:09:23 PM +0000</td>\n",
       "      <td>51.4580</td>\n",
       "      <td>-2.585</td>\n",
       "      <td>2.92</td>\n",
       "      <td>(51.458, -2.585)</td>\n",
       "    </tr>\n",
       "    <tr>\n",
       "      <th>4</th>\n",
       "      <td>SECTIONTL0028</td>\n",
       "      <td>Victoria St SB to Old Market St East OB</td>\n",
       "      <td>1335.0</td>\n",
       "      <td>07/15/2014 06:54:23 PM +0000</td>\n",
       "      <td>51.4535</td>\n",
       "      <td>-2.584</td>\n",
       "      <td>3.78</td>\n",
       "      <td>(51.4535, -2.584)</td>\n",
       "    </tr>\n",
       "  </tbody>\n",
       "</table>\n",
       "</div>"
      ],
      "text/plain": [
       "      section_id                                section_description  \\\n",
       "0            NaN                                                NaN   \n",
       "1  SECTIONTL0004  M32 Newfoundland Circus IB to Bond St at Glouc...   \n",
       "2  SECTIONTL0011  Bond St at Gloucester St EB to M32 Newfoundlan...   \n",
       "3  SECTIONTL0012  Old Market St East IB to M32 Newfoundland Circ...   \n",
       "4  SECTIONTL0028            Victoria St SB to Old Market St East OB   \n",
       "\n",
       "   travel time                          time      lat   long  est_speed  \\\n",
       "0          NaN                           NaN      NaN    NaN        NaN   \n",
       "1         42.0  07/15/2014 07:09:23 PM +0000  51.4590 -2.585      34.29   \n",
       "2         51.0  07/15/2014 07:09:23 PM +0000  51.4600 -2.585      28.24   \n",
       "3        493.0  07/15/2014 07:09:23 PM +0000  51.4580 -2.585       2.92   \n",
       "4       1335.0  07/15/2014 06:54:23 PM +0000  51.4535 -2.584       3.78   \n",
       "\n",
       "            location  \n",
       "0                NaN  \n",
       "1   (51.459, -2.585)  \n",
       "2    (51.46, -2.585)  \n",
       "3   (51.458, -2.585)  \n",
       "4  (51.4535, -2.584)  "
      ]
     },
     "execution_count": 5,
     "metadata": {},
     "output_type": "execute_result"
    }
   ],
   "source": [
    "bjt.head()"
   ]
  },
  {
   "cell_type": "markdown",
   "metadata": {},
   "source": [
    "### Background ###\n",
    "* `travel time` is in seconds\n",
    "* `time` is the beginning of the journey\n",
    "* `est_speed` is in mph\n",
    "* `location` can be the same for two different `section_id` as the traffic may be two-directional\n",
    "\n",
    "### Preprocessing ###\n",
    "* The first row can be dropped\n",
    "* `lat` and `long` coluns can be dropped\n",
    "* Data between *August 205* and *January 2016* should be disregarded -- plenty of errors\n",
    "* Translate speed to $\\frac{m}{s}$\n",
    "* convert `time` to a timestamp\n",
    "* Create dictionary `name[section_id] = section_description`"
   ]
  },
  {
   "cell_type": "code",
   "execution_count": 6,
   "metadata": {
    "collapsed": true
   },
   "outputs": [],
   "source": [
    "bjt.drop([\"lat\", \"long\"], axis=1, inplace=True)"
   ]
  },
  {
   "cell_type": "code",
   "execution_count": 8,
   "metadata": {
    "collapsed": false
   },
   "outputs": [],
   "source": [
    "bjt.drop(0, axis=0, inplace=True)"
   ]
  },
  {
   "cell_type": "code",
   "execution_count": 30,
   "metadata": {
    "collapsed": false
   },
   "outputs": [],
   "source": [
    "def s2t(s):\n",
    "    s = s.strip().strip(\"(\").strip(\")\").split(\",\")\n",
    "    s = [float(i.strip()) for i in s]\n",
    "    s = tuple(s)\n",
    "    return s\n",
    "def s2f(s):\n",
    "    s = float(s)\n",
    "    # mph to ms\n",
    "    s *= 0.44704\n",
    "    return s\n",
    "def s2i(s):\n",
    "    return int(s)\n",
    "def s2d(s):\n",
    "    if s[-5:] != \"+0000\":\n",
    "        print \"offset different:\", s[-5:]\n",
    "    return time.mktime(datetime.datetime.strptime(s[:-6], \"%m/%d/%Y %I:%M:%S %p\").timetuple())"
   ]
  },
  {
   "cell_type": "code",
   "execution_count": 31,
   "metadata": {
    "collapsed": false
   },
   "outputs": [],
   "source": [
    "# Convert the timestamp\n",
    "bjt[\"time\"] = bjt[\"time\"].apply(s2d)"
   ]
  },
  {
   "cell_type": "code",
   "execution_count": 36,
   "metadata": {
    "collapsed": false
   },
   "outputs": [
    {
     "name": "stdout",
     "output_type": "stream",
     "text": [
      "23582142\n",
      "18195264\n"
     ]
    }
   ],
   "source": [
    "# Drop useless data\n",
    "# 00:00 01/08/2015 -> 1438387200\n",
    "# 23:59 31/01/2016 -> 1454284799\n",
    "def drop_useles(d):\n",
    "    if d <= 1454284799 and d >= 1438387200:\n",
    "        return False\n",
    "    else:\n",
    "        return True\n",
    "print bjt.size\n",
    "bjt = bjt[bjt[\"time\"].map(drop_useles)]\n",
    "print bjt.size"
   ]
  },
  {
   "cell_type": "code",
   "execution_count": 41,
   "metadata": {
    "collapsed": false
   },
   "outputs": [
    {
     "name": "stderr",
     "output_type": "stream",
     "text": [
      "/anaconda/lib/python2.7/site-packages/ipykernel/__main__.py:1: SettingWithCopyWarning: \n",
      "A value is trying to be set on a copy of a slice from a DataFrame.\n",
      "Try using .loc[row_indexer,col_indexer] = value instead\n",
      "\n",
      "See the caveats in the documentation: http://pandas.pydata.org/pandas-docs/stable/indexing.html#indexing-view-versus-copy\n",
      "  if __name__ == '__main__':\n",
      "/anaconda/lib/python2.7/site-packages/ipykernel/__main__.py:2: SettingWithCopyWarning: \n",
      "A value is trying to be set on a copy of a slice from a DataFrame.\n",
      "Try using .loc[row_indexer,col_indexer] = value instead\n",
      "\n",
      "See the caveats in the documentation: http://pandas.pydata.org/pandas-docs/stable/indexing.html#indexing-view-versus-copy\n",
      "  from ipykernel import kernelapp as app\n"
     ]
    }
   ],
   "source": [
    "bjt[\"location\"] = bjt[\"location\"].apply(s2t)\n",
    "bjt[\"est_speed\"] = bjt[\"est_speed\"].apply(s2f)"
   ]
  },
  {
   "cell_type": "code",
   "execution_count": 42,
   "metadata": {
    "collapsed": false
   },
   "outputs": [
    {
     "data": {
      "text/html": [
       "<div>\n",
       "<table border=\"1\" class=\"dataframe\">\n",
       "  <thead>\n",
       "    <tr style=\"text-align: right;\">\n",
       "      <th></th>\n",
       "      <th>section_id</th>\n",
       "      <th>section_description</th>\n",
       "      <th>travel time</th>\n",
       "      <th>time</th>\n",
       "      <th>est_speed</th>\n",
       "      <th>location</th>\n",
       "    </tr>\n",
       "  </thead>\n",
       "  <tbody>\n",
       "    <tr>\n",
       "      <th>1</th>\n",
       "      <td>SECTIONTL0004</td>\n",
       "      <td>M32 Newfoundland Circus IB to Bond St at Glouc...</td>\n",
       "      <td>42.0</td>\n",
       "      <td>1.405451e+09</td>\n",
       "      <td>15.329002</td>\n",
       "      <td>(51.459, -2.585)</td>\n",
       "    </tr>\n",
       "    <tr>\n",
       "      <th>2</th>\n",
       "      <td>SECTIONTL0011</td>\n",
       "      <td>Bond St at Gloucester St EB to M32 Newfoundlan...</td>\n",
       "      <td>51.0</td>\n",
       "      <td>1.405451e+09</td>\n",
       "      <td>12.624410</td>\n",
       "      <td>(51.46, -2.585)</td>\n",
       "    </tr>\n",
       "    <tr>\n",
       "      <th>3</th>\n",
       "      <td>SECTIONTL0012</td>\n",
       "      <td>Old Market St East IB to M32 Newfoundland Circ...</td>\n",
       "      <td>493.0</td>\n",
       "      <td>1.405451e+09</td>\n",
       "      <td>1.305357</td>\n",
       "      <td>(51.458, -2.585)</td>\n",
       "    </tr>\n",
       "    <tr>\n",
       "      <th>4</th>\n",
       "      <td>SECTIONTL0028</td>\n",
       "      <td>Victoria St SB to Old Market St East OB</td>\n",
       "      <td>1335.0</td>\n",
       "      <td>1.405450e+09</td>\n",
       "      <td>1.689811</td>\n",
       "      <td>(51.4535, -2.584)</td>\n",
       "    </tr>\n",
       "    <tr>\n",
       "      <th>5</th>\n",
       "      <td>SECTIONTL0030</td>\n",
       "      <td>Victoria St SB to Bath Rd/ Three Lamps OB</td>\n",
       "      <td>207.0</td>\n",
       "      <td>1.405451e+09</td>\n",
       "      <td>10.885424</td>\n",
       "      <td>(51.4535, -2.584)</td>\n",
       "    </tr>\n",
       "  </tbody>\n",
       "</table>\n",
       "</div>"
      ],
      "text/plain": [
       "      section_id                                section_description  \\\n",
       "1  SECTIONTL0004  M32 Newfoundland Circus IB to Bond St at Glouc...   \n",
       "2  SECTIONTL0011  Bond St at Gloucester St EB to M32 Newfoundlan...   \n",
       "3  SECTIONTL0012  Old Market St East IB to M32 Newfoundland Circ...   \n",
       "4  SECTIONTL0028            Victoria St SB to Old Market St East OB   \n",
       "5  SECTIONTL0030          Victoria St SB to Bath Rd/ Three Lamps OB   \n",
       "\n",
       "   travel time          time  est_speed           location  \n",
       "1         42.0  1.405451e+09  15.329002   (51.459, -2.585)  \n",
       "2         51.0  1.405451e+09  12.624410    (51.46, -2.585)  \n",
       "3        493.0  1.405451e+09   1.305357   (51.458, -2.585)  \n",
       "4       1335.0  1.405450e+09   1.689811  (51.4535, -2.584)  \n",
       "5        207.0  1.405451e+09  10.885424  (51.4535, -2.584)  "
      ]
     },
     "execution_count": 42,
     "metadata": {},
     "output_type": "execute_result"
    }
   ],
   "source": [
    "bjt.head()"
   ]
  },
  {
   "cell_type": "code",
   "execution_count": 43,
   "metadata": {
    "collapsed": true
   },
   "outputs": [],
   "source": [
    "# save the clean data to pickle\n",
    "bjt.to_pickle(\"../bdc/hjt_cleaned.pickle\")"
   ]
  },
  {
   "cell_type": "code",
   "execution_count": null,
   "metadata": {
    "collapsed": true
   },
   "outputs": [],
   "source": []
  }
 ],
 "metadata": {
  "kernelspec": {
   "display_name": "Python 2",
   "language": "python",
   "name": "python2"
  },
  "language_info": {
   "codemirror_mode": {
    "name": "ipython",
    "version": 2
   },
   "file_extension": ".py",
   "mimetype": "text/x-python",
   "name": "python",
   "nbconvert_exporter": "python",
   "pygments_lexer": "ipython2",
   "version": "2.7.11"
  }
 },
 "nbformat": 4,
 "nbformat_minor": 2
}
